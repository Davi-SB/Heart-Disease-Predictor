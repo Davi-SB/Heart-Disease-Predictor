{
 "cells": [
  {
   "cell_type": "code",
   "execution_count": 1,
   "metadata": {},
   "outputs": [],
   "source": [
    "import pandas as pd\n",
    "from sklearn.naive_bayes import GaussianNB\n",
    "from sklearn.model_selection import cross_val_score"
   ]
  },
  {
   "cell_type": "code",
   "execution_count": 2,
   "metadata": {},
   "outputs": [],
   "source": [
    "# Carrega o dataset (supondo que ele esteja em um arquivo CSV)\n",
    "df = pd.read_csv('data/all.csv')\n",
    "\n",
    "# Separa os parâmetros (features) e o diagnóstico (alvo)\n",
    "parameters = df.iloc[:, :-1]\n",
    "diagnosis = df.iloc[:, -1]"
   ]
  },
  {
   "cell_type": "code",
   "execution_count": 8,
   "metadata": {},
   "outputs": [
    {
     "name": "stdout",
     "output_type": "stream",
     "text": [
      "Acurácias por fold:\n",
      "0.71 0.80 0.76 0.65 0.92 0.84 0.81 0.59 0.54 0.55 \n",
      "\n",
      "Acurácia média: 0.71745553643144\n"
     ]
    }
   ],
   "source": [
    "# Cria o classificador Naive Bayes\n",
    "clf = GaussianNB()\n",
    "\n",
    "# Realiza a validação cruzada com 10 folds\n",
    "scores = cross_val_score(clf, parameters, diagnosis, cv=10, scoring='accuracy')\n",
    "\n",
    "# Exibe as acurácias obtidas em cada fold e a média\n",
    "print(\"Acurácias por fold:\")\n",
    "for score in scores: print(f\"{score:.2f}\", end=' ')\n",
    "print(\"\\n\\nAcurácia média:\", scores.mean())"
   ]
  }
 ],
 "metadata": {
  "kernelspec": {
   "display_name": "Python 3",
   "language": "python",
   "name": "python3"
  },
  "language_info": {
   "codemirror_mode": {
    "name": "ipython",
    "version": 3
   },
   "file_extension": ".py",
   "mimetype": "text/x-python",
   "name": "python",
   "nbconvert_exporter": "python",
   "pygments_lexer": "ipython3",
   "version": "3.12.6"
  }
 },
 "nbformat": 4,
 "nbformat_minor": 2
}
